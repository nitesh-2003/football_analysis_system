{
 "cells": [
  {
   "cell_type": "code",
   "execution_count": 1,
   "id": "0f313e34",
   "metadata": {},
   "outputs": [
    {
     "name": "stdout",
     "output_type": "stream",
     "text": [
      "Requirement already satisfied: ultralytics in c:\\users\\nitesh kumar\\desktop\\yolo\\yolov8-env\\lib\\site-packages (8.3.139)\n",
      "Requirement already satisfied: numpy>=1.23.0 in c:\\users\\nitesh kumar\\desktop\\yolo\\yolov8-env\\lib\\site-packages (from ultralytics) (1.26.4)\n",
      "Requirement already satisfied: matplotlib>=3.3.0 in c:\\users\\nitesh kumar\\desktop\\yolo\\yolov8-env\\lib\\site-packages (from ultralytics) (3.10.3)\n",
      "Requirement already satisfied: opencv-python>=4.6.0 in c:\\users\\nitesh kumar\\desktop\\yolo\\yolov8-env\\lib\\site-packages (from ultralytics) (4.11.0.86)\n",
      "Requirement already satisfied: pillow>=7.1.2 in c:\\users\\nitesh kumar\\desktop\\yolo\\yolov8-env\\lib\\site-packages (from ultralytics) (11.2.1)\n",
      "Requirement already satisfied: pyyaml>=5.3.1 in c:\\users\\nitesh kumar\\desktop\\yolo\\yolov8-env\\lib\\site-packages (from ultralytics) (6.0.2)\n",
      "Requirement already satisfied: requests>=2.23.0 in c:\\users\\nitesh kumar\\desktop\\yolo\\yolov8-env\\lib\\site-packages (from ultralytics) (2.32.3)\n",
      "Requirement already satisfied: scipy>=1.4.1 in c:\\users\\nitesh kumar\\desktop\\yolo\\yolov8-env\\lib\\site-packages (from ultralytics) (1.15.3)\n",
      "Requirement already satisfied: torch>=1.8.0 in c:\\users\\nitesh kumar\\desktop\\yolo\\yolov8-env\\lib\\site-packages (from ultralytics) (2.7.0+cu126)\n",
      "Requirement already satisfied: torchvision>=0.9.0 in c:\\users\\nitesh kumar\\desktop\\yolo\\yolov8-env\\lib\\site-packages (from ultralytics) (0.22.0+cu126)\n",
      "Requirement already satisfied: tqdm>=4.64.0 in c:\\users\\nitesh kumar\\desktop\\yolo\\yolov8-env\\lib\\site-packages (from ultralytics) (4.67.1)\n",
      "Requirement already satisfied: psutil in c:\\users\\nitesh kumar\\desktop\\yolo\\yolov8-env\\lib\\site-packages (from ultralytics) (7.0.0)\n",
      "Requirement already satisfied: py-cpuinfo in c:\\users\\nitesh kumar\\desktop\\yolo\\yolov8-env\\lib\\site-packages (from ultralytics) (9.0.0)\n",
      "Requirement already satisfied: pandas>=1.1.4 in c:\\users\\nitesh kumar\\desktop\\yolo\\yolov8-env\\lib\\site-packages (from ultralytics) (2.2.3)\n",
      "Requirement already satisfied: ultralytics-thop>=2.0.0 in c:\\users\\nitesh kumar\\desktop\\yolo\\yolov8-env\\lib\\site-packages (from ultralytics) (2.0.14)\n",
      "Requirement already satisfied: contourpy>=1.0.1 in c:\\users\\nitesh kumar\\desktop\\yolo\\yolov8-env\\lib\\site-packages (from matplotlib>=3.3.0->ultralytics) (1.3.2)\n",
      "Requirement already satisfied: cycler>=0.10 in c:\\users\\nitesh kumar\\desktop\\yolo\\yolov8-env\\lib\\site-packages (from matplotlib>=3.3.0->ultralytics) (0.12.1)\n",
      "Requirement already satisfied: fonttools>=4.22.0 in c:\\users\\nitesh kumar\\desktop\\yolo\\yolov8-env\\lib\\site-packages (from matplotlib>=3.3.0->ultralytics) (4.58.0)\n",
      "Requirement already satisfied: kiwisolver>=1.3.1 in c:\\users\\nitesh kumar\\desktop\\yolo\\yolov8-env\\lib\\site-packages (from matplotlib>=3.3.0->ultralytics) (1.4.8)\n",
      "Requirement already satisfied: packaging>=20.0 in c:\\users\\nitesh kumar\\desktop\\yolo\\yolov8-env\\lib\\site-packages (from matplotlib>=3.3.0->ultralytics) (25.0)\n",
      "Requirement already satisfied: pyparsing>=2.3.1 in c:\\users\\nitesh kumar\\desktop\\yolo\\yolov8-env\\lib\\site-packages (from matplotlib>=3.3.0->ultralytics) (3.2.3)\n",
      "Requirement already satisfied: python-dateutil>=2.7 in c:\\users\\nitesh kumar\\desktop\\yolo\\yolov8-env\\lib\\site-packages (from matplotlib>=3.3.0->ultralytics) (2.9.0.post0)\n",
      "Requirement already satisfied: pytz>=2020.1 in c:\\users\\nitesh kumar\\desktop\\yolo\\yolov8-env\\lib\\site-packages (from pandas>=1.1.4->ultralytics) (2022.7.1)\n",
      "Requirement already satisfied: tzdata>=2022.7 in c:\\users\\nitesh kumar\\desktop\\yolo\\yolov8-env\\lib\\site-packages (from pandas>=1.1.4->ultralytics) (2025.2)\n",
      "Requirement already satisfied: six>=1.5 in c:\\users\\nitesh kumar\\desktop\\yolo\\yolov8-env\\lib\\site-packages (from python-dateutil>=2.7->matplotlib>=3.3.0->ultralytics) (1.17.0)\n",
      "Requirement already satisfied: charset-normalizer<4,>=2 in c:\\users\\nitesh kumar\\desktop\\yolo\\yolov8-env\\lib\\site-packages (from requests>=2.23.0->ultralytics) (3.4.2)\n",
      "Requirement already satisfied: idna<4,>=2.5 in c:\\users\\nitesh kumar\\desktop\\yolo\\yolov8-env\\lib\\site-packages (from requests>=2.23.0->ultralytics) (3.7)\n",
      "Requirement already satisfied: urllib3<3,>=1.21.1 in c:\\users\\nitesh kumar\\desktop\\yolo\\yolov8-env\\lib\\site-packages (from requests>=2.23.0->ultralytics) (1.26.20)\n",
      "Requirement already satisfied: certifi>=2017.4.17 in c:\\users\\nitesh kumar\\desktop\\yolo\\yolov8-env\\lib\\site-packages (from requests>=2.23.0->ultralytics) (2025.4.26)\n",
      "Requirement already satisfied: filelock in c:\\users\\nitesh kumar\\desktop\\yolo\\yolov8-env\\lib\\site-packages (from torch>=1.8.0->ultralytics) (3.18.0)\n",
      "Requirement already satisfied: typing-extensions>=4.10.0 in c:\\users\\nitesh kumar\\desktop\\yolo\\yolov8-env\\lib\\site-packages (from torch>=1.8.0->ultralytics) (4.13.2)\n",
      "Requirement already satisfied: sympy>=1.13.3 in c:\\users\\nitesh kumar\\desktop\\yolo\\yolov8-env\\lib\\site-packages (from torch>=1.8.0->ultralytics) (1.14.0)\n",
      "Requirement already satisfied: networkx in c:\\users\\nitesh kumar\\desktop\\yolo\\yolov8-env\\lib\\site-packages (from torch>=1.8.0->ultralytics) (3.4.2)\n",
      "Requirement already satisfied: jinja2 in c:\\users\\nitesh kumar\\desktop\\yolo\\yolov8-env\\lib\\site-packages (from torch>=1.8.0->ultralytics) (3.1.6)\n",
      "Requirement already satisfied: fsspec in c:\\users\\nitesh kumar\\desktop\\yolo\\yolov8-env\\lib\\site-packages (from torch>=1.8.0->ultralytics) (2025.3.2)\n",
      "Requirement already satisfied: setuptools in c:\\users\\nitesh kumar\\desktop\\yolo\\yolov8-env\\lib\\site-packages (from torch>=1.8.0->ultralytics) (80.7.1)\n",
      "Requirement already satisfied: mpmath<1.4,>=1.1.0 in c:\\users\\nitesh kumar\\desktop\\yolo\\yolov8-env\\lib\\site-packages (from sympy>=1.13.3->torch>=1.8.0->ultralytics) (1.3.0)\n",
      "Requirement already satisfied: colorama in c:\\users\\nitesh kumar\\desktop\\yolo\\yolov8-env\\lib\\site-packages (from tqdm>=4.64.0->ultralytics) (0.4.6)\n",
      "Requirement already satisfied: MarkupSafe>=2.0 in c:\\users\\nitesh kumar\\desktop\\yolo\\yolov8-env\\lib\\site-packages (from jinja2->torch>=1.8.0->ultralytics) (3.0.2)\n",
      "Note: you may need to restart the kernel to use updated packages.\n",
      "Requirement already satisfied: roboflow in c:\\users\\nitesh kumar\\desktop\\yolo\\yolov8-env\\lib\\site-packages (1.1.64)\n",
      "Requirement already satisfied: certifi in c:\\users\\nitesh kumar\\desktop\\yolo\\yolov8-env\\lib\\site-packages (from roboflow) (2025.4.26)\n",
      "Requirement already satisfied: idna==3.7 in c:\\users\\nitesh kumar\\desktop\\yolo\\yolov8-env\\lib\\site-packages (from roboflow) (3.7)\n",
      "Requirement already satisfied: cycler in c:\\users\\nitesh kumar\\desktop\\yolo\\yolov8-env\\lib\\site-packages (from roboflow) (0.12.1)\n",
      "Requirement already satisfied: kiwisolver>=1.3.1 in c:\\users\\nitesh kumar\\desktop\\yolo\\yolov8-env\\lib\\site-packages (from roboflow) (1.4.8)\n",
      "Requirement already satisfied: matplotlib in c:\\users\\nitesh kumar\\desktop\\yolo\\yolov8-env\\lib\\site-packages (from roboflow) (3.10.3)\n",
      "Requirement already satisfied: numpy>=1.18.5 in c:\\users\\nitesh kumar\\desktop\\yolo\\yolov8-env\\lib\\site-packages (from roboflow) (1.26.4)\n",
      "Requirement already satisfied: opencv-python-headless==4.10.0.84 in c:\\users\\nitesh kumar\\desktop\\yolo\\yolov8-env\\lib\\site-packages (from roboflow) (4.10.0.84)\n",
      "Requirement already satisfied: Pillow>=7.1.2 in c:\\users\\nitesh kumar\\desktop\\yolo\\yolov8-env\\lib\\site-packages (from roboflow) (11.2.1)\n",
      "Requirement already satisfied: pillow-heif>=0.18.0 in c:\\users\\nitesh kumar\\desktop\\yolo\\yolov8-env\\lib\\site-packages (from roboflow) (0.22.0)\n",
      "Requirement already satisfied: python-dateutil in c:\\users\\nitesh kumar\\desktop\\yolo\\yolov8-env\\lib\\site-packages (from roboflow) (2.9.0.post0)\n",
      "Requirement already satisfied: python-dotenv in c:\\users\\nitesh kumar\\desktop\\yolo\\yolov8-env\\lib\\site-packages (from roboflow) (1.1.0)\n",
      "Requirement already satisfied: requests in c:\\users\\nitesh kumar\\desktop\\yolo\\yolov8-env\\lib\\site-packages (from roboflow) (2.32.3)\n",
      "Requirement already satisfied: six in c:\\users\\nitesh kumar\\desktop\\yolo\\yolov8-env\\lib\\site-packages (from roboflow) (1.17.0)\n",
      "Requirement already satisfied: urllib3>=1.26.6 in c:\\users\\nitesh kumar\\desktop\\yolo\\yolov8-env\\lib\\site-packages (from roboflow) (1.26.20)\n",
      "Requirement already satisfied: tqdm>=4.41.0 in c:\\users\\nitesh kumar\\desktop\\yolo\\yolov8-env\\lib\\site-packages (from roboflow) (4.67.1)\n",
      "Requirement already satisfied: PyYAML>=5.3.1 in c:\\users\\nitesh kumar\\desktop\\yolo\\yolov8-env\\lib\\site-packages (from roboflow) (6.0.2)\n",
      "Requirement already satisfied: requests-toolbelt in c:\\users\\nitesh kumar\\desktop\\yolo\\yolov8-env\\lib\\site-packages (from roboflow) (1.0.0)\n",
      "Requirement already satisfied: filetype in c:\\users\\nitesh kumar\\desktop\\yolo\\yolov8-env\\lib\\site-packages (from roboflow) (1.2.0)\n",
      "Requirement already satisfied: colorama in c:\\users\\nitesh kumar\\desktop\\yolo\\yolov8-env\\lib\\site-packages (from tqdm>=4.41.0->roboflow) (0.4.6)\n",
      "Requirement already satisfied: contourpy>=1.0.1 in c:\\users\\nitesh kumar\\desktop\\yolo\\yolov8-env\\lib\\site-packages (from matplotlib->roboflow) (1.3.2)\n",
      "Requirement already satisfied: fonttools>=4.22.0 in c:\\users\\nitesh kumar\\desktop\\yolo\\yolov8-env\\lib\\site-packages (from matplotlib->roboflow) (4.58.0)\n",
      "Requirement already satisfied: packaging>=20.0 in c:\\users\\nitesh kumar\\desktop\\yolo\\yolov8-env\\lib\\site-packages (from matplotlib->roboflow) (25.0)\n",
      "Requirement already satisfied: pyparsing>=2.3.1 in c:\\users\\nitesh kumar\\desktop\\yolo\\yolov8-env\\lib\\site-packages (from matplotlib->roboflow) (3.2.3)\n",
      "Requirement already satisfied: charset-normalizer<4,>=2 in c:\\users\\nitesh kumar\\desktop\\yolo\\yolov8-env\\lib\\site-packages (from requests->roboflow) (3.4.2)\n",
      "Note: you may need to restart the kernel to use updated packages.\n"
     ]
    }
   ],
   "source": [
    "%pip install ultralytics\n",
    "%pip install roboflow"
   ]
  },
  {
   "cell_type": "markdown",
   "id": "714a3f03",
   "metadata": {},
   "source": [
    "Get Dataset"
   ]
  },
  {
   "cell_type": "code",
   "execution_count": null,
   "id": "595b5f38",
   "metadata": {},
   "outputs": [
    {
     "name": "stdout",
     "output_type": "stream",
     "text": [
      "Requirement already satisfied: roboflow in c:\\users\\nitesh kumar\\desktop\\yolo\\yolov8-env\\lib\\site-packages (1.1.64)\n",
      "Requirement already satisfied: certifi in c:\\users\\nitesh kumar\\desktop\\yolo\\yolov8-env\\lib\\site-packages (from roboflow) (2025.4.26)\n",
      "Requirement already satisfied: idna==3.7 in c:\\users\\nitesh kumar\\desktop\\yolo\\yolov8-env\\lib\\site-packages (from roboflow) (3.7)\n",
      "Requirement already satisfied: cycler in c:\\users\\nitesh kumar\\desktop\\yolo\\yolov8-env\\lib\\site-packages (from roboflow) (0.12.1)\n",
      "Requirement already satisfied: kiwisolver>=1.3.1 in c:\\users\\nitesh kumar\\desktop\\yolo\\yolov8-env\\lib\\site-packages (from roboflow) (1.4.8)\n",
      "Requirement already satisfied: matplotlib in c:\\users\\nitesh kumar\\desktop\\yolo\\yolov8-env\\lib\\site-packages (from roboflow) (3.10.3)\n",
      "Requirement already satisfied: numpy>=1.18.5 in c:\\users\\nitesh kumar\\desktop\\yolo\\yolov8-env\\lib\\site-packages (from roboflow) (1.26.4)\n",
      "Requirement already satisfied: opencv-python-headless==4.10.0.84 in c:\\users\\nitesh kumar\\desktop\\yolo\\yolov8-env\\lib\\site-packages (from roboflow) (4.10.0.84)\n",
      "Requirement already satisfied: Pillow>=7.1.2 in c:\\users\\nitesh kumar\\desktop\\yolo\\yolov8-env\\lib\\site-packages (from roboflow) (11.2.1)\n",
      "Requirement already satisfied: pillow-heif>=0.18.0 in c:\\users\\nitesh kumar\\desktop\\yolo\\yolov8-env\\lib\\site-packages (from roboflow) (0.22.0)\n",
      "Requirement already satisfied: python-dateutil in c:\\users\\nitesh kumar\\desktop\\yolo\\yolov8-env\\lib\\site-packages (from roboflow) (2.9.0.post0)\n",
      "Requirement already satisfied: python-dotenv in c:\\users\\nitesh kumar\\desktop\\yolo\\yolov8-env\\lib\\site-packages (from roboflow) (1.1.0)\n",
      "Requirement already satisfied: requests in c:\\users\\nitesh kumar\\desktop\\yolo\\yolov8-env\\lib\\site-packages (from roboflow) (2.32.3)\n",
      "Requirement already satisfied: six in c:\\users\\nitesh kumar\\desktop\\yolo\\yolov8-env\\lib\\site-packages (from roboflow) (1.17.0)\n",
      "Requirement already satisfied: urllib3>=1.26.6 in c:\\users\\nitesh kumar\\desktop\\yolo\\yolov8-env\\lib\\site-packages (from roboflow) (1.26.20)\n",
      "Requirement already satisfied: tqdm>=4.41.0 in c:\\users\\nitesh kumar\\desktop\\yolo\\yolov8-env\\lib\\site-packages (from roboflow) (4.67.1)\n",
      "Requirement already satisfied: PyYAML>=5.3.1 in c:\\users\\nitesh kumar\\desktop\\yolo\\yolov8-env\\lib\\site-packages (from roboflow) (6.0.2)\n",
      "Requirement already satisfied: requests-toolbelt in c:\\users\\nitesh kumar\\desktop\\yolo\\yolov8-env\\lib\\site-packages (from roboflow) (1.0.0)\n",
      "Requirement already satisfied: filetype in c:\\users\\nitesh kumar\\desktop\\yolo\\yolov8-env\\lib\\site-packages (from roboflow) (1.2.0)\n",
      "Requirement already satisfied: colorama in c:\\users\\nitesh kumar\\desktop\\yolo\\yolov8-env\\lib\\site-packages (from tqdm>=4.41.0->roboflow) (0.4.6)\n",
      "Requirement already satisfied: contourpy>=1.0.1 in c:\\users\\nitesh kumar\\desktop\\yolo\\yolov8-env\\lib\\site-packages (from matplotlib->roboflow) (1.3.2)\n",
      "Requirement already satisfied: fonttools>=4.22.0 in c:\\users\\nitesh kumar\\desktop\\yolo\\yolov8-env\\lib\\site-packages (from matplotlib->roboflow) (4.58.0)\n",
      "Requirement already satisfied: packaging>=20.0 in c:\\users\\nitesh kumar\\desktop\\yolo\\yolov8-env\\lib\\site-packages (from matplotlib->roboflow) (25.0)\n",
      "Requirement already satisfied: pyparsing>=2.3.1 in c:\\users\\nitesh kumar\\desktop\\yolo\\yolov8-env\\lib\\site-packages (from matplotlib->roboflow) (3.2.3)\n",
      "Requirement already satisfied: charset-normalizer<4,>=2 in c:\\users\\nitesh kumar\\desktop\\yolo\\yolov8-env\\lib\\site-packages (from requests->roboflow) (3.4.2)\n",
      "Note: you may need to restart the kernel to use updated packages.\n",
      "loading Roboflow workspace...\n",
      "loading Roboflow project...\n"
     ]
    },
    {
     "name": "stderr",
     "output_type": "stream",
     "text": [
      "Downloading Dataset Version Zip in football-players-detection-14 to yolov5pytorch:: 100%|██████████| 23025/23025 [00:18<00:00, 1235.27it/s]"
     ]
    },
    {
     "name": "stdout",
     "output_type": "stream",
     "text": [
      "\n"
     ]
    },
    {
     "name": "stderr",
     "output_type": "stream",
     "text": [
      "\n",
      "Extracting Dataset Version Zip to football-players-detection-14 in yolov5pytorch:: 100%|██████████| 756/756 [00:00<00:00, 1823.68it/s]\n"
     ]
    }
   ],
   "source": [
    "from roboflow import Roboflow\n",
    "rf = Roboflow(api_key=\"qAkWBrZAeOSJUOK3RmP3\")\n",
    "project = rf.workspace(\"roboflow-jvuqo\").project(\"football-players-detection-3zvbc\")\n",
    "version = project.version(14)\n",
    "dataset = version.download(\"yolov5\")\n",
    "                "
   ]
  },
  {
   "cell_type": "code",
   "execution_count": 3,
   "id": "b02d1383",
   "metadata": {},
   "outputs": [
    {
     "data": {
      "text/plain": [
       "'c:\\\\Users\\\\Nitesh Kumar\\\\Desktop\\\\yolo\\\\football\\\\training\\\\football-players-detection-14'"
      ]
     },
     "execution_count": 3,
     "metadata": {},
     "output_type": "execute_result"
    }
   ],
   "source": [
    "dataset.location"
   ]
  },
  {
   "cell_type": "code",
   "execution_count": 4,
   "id": "9c3e10c5",
   "metadata": {},
   "outputs": [
    {
     "data": {
      "text/plain": [
       "'football-players-detection-14/football-players-detection-14/valid'"
      ]
     },
     "execution_count": 4,
     "metadata": {},
     "output_type": "execute_result"
    }
   ],
   "source": [
    "import shutil\n",
    "shutil.move('football-players-detection-14/train',\n",
    "            'football-players-detection-14/football-players-detection-14/train'\n",
    "            )\n",
    "shutil.move('football-players-detection-14/test',\n",
    "            'football-players-detection-14/football-players-detection-14/test'\n",
    "            )\n",
    "shutil.move('football-players-detection-14/valid',\n",
    "            'football-players-detection-14/football-players-detection-14/valid'\n",
    "            )"
   ]
  },
  {
   "cell_type": "markdown",
   "id": "8a9a3d50",
   "metadata": {},
   "source": [
    "Training"
   ]
  },
  {
   "cell_type": "code",
   "execution_count": null,
   "id": "b32083d4",
   "metadata": {},
   "outputs": [],
   "source": [
    "!yolo task=detect mode=train model=yolov5s.pt data=\"C:/Users/Nitesh Kumar/Desktop/yolo/football/training/football-players-detection-14/data.yaml\" epochs=100 imgsz=640"
   ]
  }
 ],
 "metadata": {
  "kernelspec": {
   "display_name": "yolov8-env",
   "language": "python",
   "name": "python3"
  },
  "language_info": {
   "codemirror_mode": {
    "name": "ipython",
    "version": 3
   },
   "file_extension": ".py",
   "mimetype": "text/x-python",
   "name": "python",
   "nbconvert_exporter": "python",
   "pygments_lexer": "ipython3",
   "version": "3.13.3"
  }
 },
 "nbformat": 4,
 "nbformat_minor": 5
}
